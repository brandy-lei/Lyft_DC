{
 "cells": [
  {
   "cell_type": "code",
   "execution_count": 2,
   "metadata": {
    "collapsed": false
   },
   "outputs": [
    {
     "name": "stderr",
     "output_type": "stream",
     "text": [
      "/Library/Frameworks/Python.framework/Versions/2.7/lib/python2.7/site-packages/matplotlib/__init__.py:456: UserWarning: matplotlibrc ps.usedistiller can not be set to xpdf unless xpdf-3.0 or later is installed on your system\n",
      "  'xpdf unless xpdf-%s or later is installed on your system') % pdftops_req)\n"
     ]
    }
   ],
   "source": [
    "import pandas as pd\n",
    "import scipy as sp\n",
    "import numpy as np\n",
    "\n",
    "import matplotlib\n",
    "import matplotlib.pyplot as plt\n",
    "%matplotlib inline\n",
    "import seaborn as sns\n",
    "\n",
    "sns.set(rc={'axes.facecolor':'white','figure.facecolor':'white'})\n",
    "\n",
    "# These are the \"Tableau 20\" colors as RGB.    \n",
    "tableau20 = [(31, 119, 180), (174, 199, 232), (255, 127, 14), (255, 187, 120),    \n",
    "             (44, 160, 44), (152, 223, 138), (214, 39, 40), (255, 152, 150),    \n",
    "             (148, 103, 189), (197, 176, 213), (140, 86, 75), (196, 156, 148),    \n",
    "             (227, 119, 194), (247, 182, 210), (127, 127, 127), (199, 199, 199),    \n",
    "             (188, 189, 34), (219, 219, 141), (23, 190, 207), (158, 218, 229)]    \n",
    "  \n",
    "# Scale the RGB values to the [0, 1] range, which is the format matplotlib accepts.    \n",
    "for i in range(len(tableau20)):    \n",
    "    r, g, b = tableau20[i]    \n",
    "    tableau20[i] = (r / 255., g / 255., b / 255.)    "
   ]
  },
  {
   "cell_type": "code",
   "execution_count": null,
   "metadata": {
    "collapsed": false
   },
   "outputs": [],
   "source": [
    "rides = pd.read_csv('rides.csv')"
   ]
  },
  {
   "cell_type": "code",
   "execution_count": null,
   "metadata": {
    "collapsed": false
   },
   "outputs": [],
   "source": [
    "rides.head()"
   ]
  },
  {
   "cell_type": "code",
   "execution_count": 8,
   "metadata": {
    "collapsed": false
   },
   "outputs": [
    {
     "data": {
      "text/html": [
       "<div>\n",
       "<table border=\"1\" class=\"dataframe\">\n",
       "  <thead>\n",
       "    <tr style=\"text-align: right;\">\n",
       "      <th></th>\n",
       "      <th>start_lat</th>\n",
       "      <th>start_lng</th>\n",
       "      <th>end_lat</th>\n",
       "      <th>end_lng</th>\n",
       "      <th>distance_miles</th>\n",
       "      <th>duration_secs</th>\n",
       "      <th>passenger_count</th>\n",
       "    </tr>\n",
       "  </thead>\n",
       "  <tbody>\n",
       "    <tr>\n",
       "      <th>count</th>\n",
       "      <td>2835723.000000</td>\n",
       "      <td>2835723.000000</td>\n",
       "      <td>2835715.000000</td>\n",
       "      <td>2835715.000000</td>\n",
       "      <td>2835723.000000</td>\n",
       "      <td>2835723.000000</td>\n",
       "      <td>2835723.000000</td>\n",
       "    </tr>\n",
       "    <tr>\n",
       "      <th>mean</th>\n",
       "      <td>40.749596</td>\n",
       "      <td>-73.975251</td>\n",
       "      <td>40.750119</td>\n",
       "      <td>-73.974743</td>\n",
       "      <td>2.967321</td>\n",
       "      <td>747.643958</td>\n",
       "      <td>1.743615</td>\n",
       "    </tr>\n",
       "    <tr>\n",
       "      <th>std</th>\n",
       "      <td>0.027221</td>\n",
       "      <td>0.036386</td>\n",
       "      <td>0.030818</td>\n",
       "      <td>0.035539</td>\n",
       "      <td>3.431376</td>\n",
       "      <td>541.307909</td>\n",
       "      <td>1.414146</td>\n",
       "    </tr>\n",
       "    <tr>\n",
       "      <th>min</th>\n",
       "      <td>40.080708</td>\n",
       "      <td>-74.673485</td>\n",
       "      <td>40.055046</td>\n",
       "      <td>-74.772507</td>\n",
       "      <td>0.000000</td>\n",
       "      <td>-10.000000</td>\n",
       "      <td>0.000000</td>\n",
       "    </tr>\n",
       "    <tr>\n",
       "      <th>25%</th>\n",
       "      <td>40.735657</td>\n",
       "      <td>-73.992622</td>\n",
       "      <td>40.734795</td>\n",
       "      <td>-73.991821</td>\n",
       "      <td>1.000000</td>\n",
       "      <td>367.000000</td>\n",
       "      <td>1.000000</td>\n",
       "    </tr>\n",
       "    <tr>\n",
       "      <th>50%</th>\n",
       "      <td>40.752319</td>\n",
       "      <td>-73.982330</td>\n",
       "      <td>40.752762</td>\n",
       "      <td>-73.981117</td>\n",
       "      <td>1.940000</td>\n",
       "      <td>600.000000</td>\n",
       "      <td>1.000000</td>\n",
       "    </tr>\n",
       "    <tr>\n",
       "      <th>75%</th>\n",
       "      <td>40.765671</td>\n",
       "      <td>-73.969101</td>\n",
       "      <td>40.766369</td>\n",
       "      <td>-73.966469</td>\n",
       "      <td>3.250000</td>\n",
       "      <td>960.000000</td>\n",
       "      <td>2.000000</td>\n",
       "    </tr>\n",
       "    <tr>\n",
       "      <th>max</th>\n",
       "      <td>41.758438</td>\n",
       "      <td>-71.757393</td>\n",
       "      <td>41.756645</td>\n",
       "      <td>-71.757393</td>\n",
       "      <td>50.000000</td>\n",
       "      <td>7200.000000</td>\n",
       "      <td>6.000000</td>\n",
       "    </tr>\n",
       "  </tbody>\n",
       "</table>\n",
       "</div>"
      ],
      "text/plain": [
       "            start_lat       start_lng         end_lat         end_lng  \\\n",
       "count  2835723.000000  2835723.000000  2835715.000000  2835715.000000   \n",
       "mean        40.749596      -73.975251       40.750119      -73.974743   \n",
       "std          0.027221        0.036386        0.030818        0.035539   \n",
       "min         40.080708      -74.673485       40.055046      -74.772507   \n",
       "25%         40.735657      -73.992622       40.734795      -73.991821   \n",
       "50%         40.752319      -73.982330       40.752762      -73.981117   \n",
       "75%         40.765671      -73.969101       40.766369      -73.966469   \n",
       "max         41.758438      -71.757393       41.756645      -71.757393   \n",
       "\n",
       "       distance_miles   duration_secs  passenger_count  \n",
       "count  2835723.000000  2835723.000000   2835723.000000  \n",
       "mean         2.967321      747.643958         1.743615  \n",
       "std          3.431376      541.307909         1.414146  \n",
       "min          0.000000      -10.000000         0.000000  \n",
       "25%          1.000000      367.000000         1.000000  \n",
       "50%          1.940000      600.000000         1.000000  \n",
       "75%          3.250000      960.000000         2.000000  \n",
       "max         50.000000     7200.000000         6.000000  "
      ]
     },
     "execution_count": 8,
     "metadata": {},
     "output_type": "execute_result"
    }
   ],
   "source": [
    "rides.describe()"
   ]
  },
  {
   "cell_type": "code",
   "execution_count": 9,
   "metadata": {
    "collapsed": false
   },
   "outputs": [
    {
     "data": {
      "text/plain": [
       "hack_license         object\n",
       "pickup_datetime      object\n",
       "start_lat           float64\n",
       "start_lng           float64\n",
       "dropoff_datetime     object\n",
       "end_lat             float64\n",
       "end_lng             float64\n",
       "distance_miles      float64\n",
       "duration_secs         int64\n",
       "passenger_count       int64\n",
       "dtype: object"
      ]
     },
     "execution_count": 9,
     "metadata": {},
     "output_type": "execute_result"
    }
   ],
   "source": [
    "rides.dtypes"
   ]
  },
  {
   "cell_type": "code",
   "execution_count": 1,
   "metadata": {
    "collapsed": false
   },
   "outputs": [
    {
     "ename": "NameError",
     "evalue": "name 'rides' is not defined",
     "output_type": "error",
     "traceback": [
      "\u001b[0;31m---------------------------------------------------------------------------\u001b[0m",
      "\u001b[0;31mNameError\u001b[0m                                 Traceback (most recent call last)",
      "\u001b[0;32m<ipython-input-1-50adcf53dcb9>\u001b[0m in \u001b[0;36m<module>\u001b[0;34m()\u001b[0m\n\u001b[0;32m----> 1\u001b[0;31m \u001b[0;32mprint\u001b[0m \u001b[0mlen\u001b[0m\u001b[0;34m(\u001b[0m\u001b[0mrides\u001b[0m\u001b[0;34m)\u001b[0m\u001b[0;34m\u001b[0m\u001b[0m\n\u001b[0m",
      "\u001b[0;31mNameError\u001b[0m: name 'rides' is not defined"
     ]
    }
   ],
   "source": [
    "print len(rides)"
   ]
  },
  {
   "cell_type": "code",
   "execution_count": 11,
   "metadata": {
    "collapsed": false
   },
   "outputs": [],
   "source": [
    "#pickup = pd.DatetimeIndex(rides['pickup_datetime'])"
   ]
  },
  {
   "cell_type": "code",
   "execution_count": 12,
   "metadata": {
    "collapsed": true
   },
   "outputs": [],
   "source": [
    "#dropoff = pd.DatetimeIndex(rides['dropoff_datetime'])"
   ]
  },
  {
   "cell_type": "code",
   "execution_count": 13,
   "metadata": {
    "collapsed": true
   },
   "outputs": [],
   "source": [
    "#rides['pickup'] = pickup"
   ]
  },
  {
   "cell_type": "code",
   "execution_count": 14,
   "metadata": {
    "collapsed": true
   },
   "outputs": [],
   "source": [
    "#rides['dropoff'] = dropoff"
   ]
  },
  {
   "cell_type": "code",
   "execution_count": 15,
   "metadata": {
    "collapsed": false
   },
   "outputs": [],
   "source": [
    "#rides.dtypes"
   ]
  },
  {
   "cell_type": "code",
   "execution_count": 16,
   "metadata": {
    "collapsed": false
   },
   "outputs": [],
   "source": [
    "#print min(rides['pickup']), max(rides['pickup'])"
   ]
  },
  {
   "cell_type": "code",
   "execution_count": 17,
   "metadata": {
    "collapsed": false
   },
   "outputs": [
    {
     "data": {
      "image/png": "[encoded data removed]",
      "text/plain": [
       "<matplotlib.figure.Figure at 0x1062287d0>"
      ]
     },
     "metadata": {},
     "output_type": "display_data"
    }
   ],
   "source": [
    "plt.hist(rides['distance_miles'])\n",
    "plt.show()"
   ]
  },
  {
   "cell_type": "markdown",
   "metadata": {},
   "source": [
    "#### Most of the rides are low distance (even below 1 mile). We keep the distances that are 0. As we only have granularity to the scale of the mile we can imagine ride that are below that threshold"
   ]
  },
  {
   "cell_type": "code",
   "execution_count": 18,
   "metadata": {
    "collapsed": false
   },
   "outputs": [
    {
     "name": "stdout",
     "output_type": "stream",
     "text": [
      "3.24432252374e-05\n"
     ]
    }
   ],
   "source": [
    "# Some rides have negative duration time which is weird\n",
    "print 1.*len(rides[rides['duration_secs']<0])/len(rides)"
   ]
  },
  {
   "cell_type": "code",
   "execution_count": 19,
   "metadata": {
    "collapsed": true
   },
   "outputs": [],
   "source": [
    "# However it is only a tiny fraction of the data so we can remove these points"
   ]
  },
  {
   "cell_type": "code",
   "execution_count": 20,
   "metadata": {
    "collapsed": false
   },
   "outputs": [
    {
     "name": "stdout",
     "output_type": "stream",
     "text": [
      "1\n"
     ]
    }
   ],
   "source": [
    "# What is the minimum time in seconds if we exclude rides that have negative duration?\n",
    "clean = rides[rides['duration_secs']>0]\n",
    "print min(clean['duration_secs'])"
   ]
  },
  {
   "cell_type": "code",
   "execution_count": 21,
   "metadata": {
    "collapsed": true
   },
   "outputs": [],
   "source": [
    "# 1s! It is way to low to be real. "
   ]
  },
  {
   "cell_type": "markdown",
   "metadata": {},
   "source": [
    "#### In the following we will remove all rides that are less than 2 minutes"
   ]
  },
  {
   "cell_type": "code",
   "execution_count": 22,
   "metadata": {
    "collapsed": true
   },
   "outputs": [],
   "source": [
    "rides2 = rides[rides['duration_secs']>=120]"
   ]
  },
  {
   "cell_type": "code",
   "execution_count": 23,
   "metadata": {
    "collapsed": false
   },
   "outputs": [
    {
     "data": {
      "image/png": "[encoded data removed]",
      "text/plain": [
       "<matplotlib.figure.Figure at 0x1095a5610>"
      ]
     },
     "metadata": {},
     "output_type": "display_data"
    }
   ],
   "source": [
    "plt.hist(rides2['duration_secs'])\n",
    "plt.show()"
   ]
  },
  {
   "cell_type": "code",
   "execution_count": 24,
   "metadata": {
    "collapsed": true
   },
   "outputs": [],
   "source": [
    "# This confirm that people tend to take Lyft for small distances and quick drives"
   ]
  },
  {
   "cell_type": "code",
   "execution_count": 25,
   "metadata": {
    "collapsed": false
   },
   "outputs": [],
   "source": [
    "#dates_pickup = pickup.date"
   ]
  },
  {
   "cell_type": "code",
   "execution_count": 26,
   "metadata": {
    "collapsed": true
   },
   "outputs": [],
   "source": [
    "#dates_dropoff = dropoff.date"
   ]
  },
  {
   "cell_type": "code",
   "execution_count": 27,
   "metadata": {
    "collapsed": false,
    "scrolled": true
   },
   "outputs": [],
   "source": [
    "# What is the dates range?\n",
    "#print np.unique(dates_pickup)"
   ]
  },
  {
   "cell_type": "code",
   "execution_count": 28,
   "metadata": {
    "collapsed": false
   },
   "outputs": [],
   "source": [
    "#rides['dates_pickup'] = dates_pickup"
   ]
  },
  {
   "cell_type": "code",
   "execution_count": 29,
   "metadata": {
    "collapsed": true
   },
   "outputs": [],
   "source": [
    "#rides['dates_dropoff'] = dates_dropoff"
   ]
  },
  {
   "cell_type": "code",
   "execution_count": 30,
   "metadata": {
    "collapsed": false
   },
   "outputs": [],
   "source": [
    "#rides.head()"
   ]
  },
  {
   "cell_type": "code",
   "execution_count": 31,
   "metadata": {
    "collapsed": false
   },
   "outputs": [
    {
     "name": "stdout",
     "output_type": "stream",
     "text": [
      "2792091\n"
     ]
    }
   ],
   "source": [
    "rides2 = rides[rides['duration_secs']>=120]\n",
    "print len(rides2)"
   ]
  },
  {
   "cell_type": "code",
   "execution_count": 32,
   "metadata": {
    "collapsed": true
   },
   "outputs": [],
   "source": [
    "# To get a sense of the hot spots we restrict the dataset to one day for plotting purposes"
   ]
  },
  {
   "cell_type": "code",
   "execution_count": 33,
   "metadata": {
    "collapsed": false
   },
   "outputs": [],
   "source": [
    "one_day = rides2[0:200000]\n",
    "#one_day = rides2[rides2['dates_pickup']==rides2['dates_pickup'][0]]"
   ]
  },
  {
   "cell_type": "code",
   "execution_count": 34,
   "metadata": {
    "collapsed": false
   },
   "outputs": [
    {
     "name": "stdout",
     "output_type": "stream",
     "text": [
      "200000\n",
      "40.752533 -73.98214\n"
     ]
    }
   ],
   "source": [
    "print len(one_day)\n",
    "print np.median(one_day['start_lat']), np.median(one_day['start_lng'])"
   ]
  },
  {
   "cell_type": "code",
   "execution_count": 35,
   "metadata": {
    "collapsed": true
   },
   "outputs": [],
   "source": [
    "#import folium"
   ]
  },
  {
   "cell_type": "code",
   "execution_count": 36,
   "metadata": {
    "collapsed": true
   },
   "outputs": [],
   "source": [
    "# Create map of the different pickup locations\n",
    "#map = folium.Map(location=[40.749954,-73.983711],\n",
    "#    zoom_start=5)\n",
    "\n",
    "#for _, df in one_day.iterrows():\n",
    "#    map.circle_marker(\n",
    "#        location=[df['start_lat'], df['start_lng']],\n",
    "#        radius=20,\n",
    "#    )\n",
    "\n",
    "#map.create_map(path='pickups.html')"
   ]
  },
  {
   "cell_type": "markdown",
   "metadata": {},
   "source": [
    "#### The data are located in New York. Let's overplot some well-known destinations to get a sense of the hot spots"
   ]
  },
  {
   "cell_type": "code",
   "execution_count": 37,
   "metadata": {
    "collapsed": true
   },
   "outputs": [],
   "source": [
    "# Times Square\n",
    "times_square = [40.75773, -73.985708]\n",
    "# Financial District\n",
    "financial_district = [40.707499, -74.011153]\n",
    "# LaGuardia\n",
    "laguardia = [40.77725, -73.872611]\n",
    "# JFK\n",
    "jfk = [40.639722, -73.778889]\n",
    "# Central Park\n",
    "central_park = [40.783333, -73.966667]"
   ]
  },
  {
   "cell_type": "code",
   "execution_count": 38,
   "metadata": {
    "collapsed": false
   },
   "outputs": [
    {
     "data": {
      "image/png": "[encoded data removed]",
      "text/plain": [
       "<matplotlib.figure.Figure at 0x1097c0850>"
      ]
     },
     "metadata": {},
     "output_type": "display_data"
    }
   ],
   "source": [
    "plt.plot(one_day['start_lng'], one_day['start_lat'], '.', color='k', alpha=0.8)\n",
    "plt.plot(times_square[1], times_square[0], 'o', color=tableau20[0])\n",
    "plt.plot(financial_district[1], financial_district[0], 'o', color=tableau20[1])\n",
    "plt.plot(laguardia[1], laguardia[0], 'o', color=tableau20[2])\n",
    "plt.plot(jfk[1], jfk[0], 'o', color=tableau20[3])\n",
    "plt.plot(central_park[1], central_park[0], 'o', color=tableau20[4])\n",
    "plt.xlim(-74.1, -73.6)\n",
    "plt.ylim(40.55, 40.9)\n",
    "plt.legend(['Rides', 'Times Square', 'Financial District', 'LaGuardia', 'JFK', 'Central Park'], ncol=1, frameon=False, fontsize=16) \n",
    "plt.show()"
   ]
  },
  {
   "cell_type": "code",
   "execution_count": 39,
   "metadata": {
    "collapsed": false
   },
   "outputs": [
    {
     "data": {
      "image/png": "[encoded data removed]",
      "text/plain": [
       "<matplotlib.figure.Figure at 0x1097c04d0>"
      ]
     },
     "metadata": {},
     "output_type": "display_data"
    }
   ],
   "source": [
    "plt.plot(one_day['end_lng'], one_day['end_lat'], '.', color='k', alpha=0.8)\n",
    "plt.plot(times_square[1], times_square[0], 'o', color=tableau20[0])\n",
    "plt.plot(financial_district[1], financial_district[0], 'o', color=tableau20[1])\n",
    "plt.plot(laguardia[1], laguardia[0], 'o', color=tableau20[2])\n",
    "plt.plot(jfk[1], jfk[0], 'o', color=tableau20[3])\n",
    "plt.plot(central_park[1], central_park[0], 'o', color=tableau20[4])\n",
    "plt.xlim(-74.1, -73.6)\n",
    "plt.ylim(40.55, 40.9)\n",
    "plt.legend(['Rides', 'Times Square', 'Financial District', 'LaGuardia', 'JFK', 'Central Park'], ncol=1, frameon=False, fontsize=16) \n",
    "plt.show()"
   ]
  },
  {
   "cell_type": "code",
   "execution_count": 41,
   "metadata": {
    "collapsed": false
   },
   "outputs": [],
   "source": [
    "from sklearn.cluster import KMeans"
   ]
  },
  {
   "cell_type": "code",
   "execution_count": 42,
   "metadata": {
    "collapsed": false
   },
   "outputs": [],
   "source": [
    "#k_means = KMeans(n_clusters=5)"
   ]
  },
  {
   "cell_type": "code",
   "execution_count": 43,
   "metadata": {
    "collapsed": false
   },
   "outputs": [
    {
     "data": {
      "text/html": [
       "<div>\n",
       "<table border=\"1\" class=\"dataframe\">\n",
       "  <thead>\n",
       "    <tr style=\"text-align: right;\">\n",
       "      <th></th>\n",
       "      <th>start_lat</th>\n",
       "      <th>start_lng</th>\n",
       "    </tr>\n",
       "  </thead>\n",
       "  <tbody>\n",
       "    <tr>\n",
       "      <th>0</th>\n",
       "      <td>40.761032</td>\n",
       "      <td>-73.987091</td>\n",
       "    </tr>\n",
       "    <tr>\n",
       "      <th>1</th>\n",
       "      <td>40.773907</td>\n",
       "      <td>-73.873360</td>\n",
       "    </tr>\n",
       "    <tr>\n",
       "      <th>2</th>\n",
       "      <td>40.761890</td>\n",
       "      <td>-73.986977</td>\n",
       "    </tr>\n",
       "    <tr>\n",
       "      <th>3</th>\n",
       "      <td>40.765141</td>\n",
       "      <td>-73.980568</td>\n",
       "    </tr>\n",
       "    <tr>\n",
       "      <th>4</th>\n",
       "      <td>40.731152</td>\n",
       "      <td>-73.982193</td>\n",
       "    </tr>\n",
       "  </tbody>\n",
       "</table>\n",
       "</div>"
      ],
      "text/plain": [
       "   start_lat  start_lng\n",
       "0  40.761032 -73.987091\n",
       "1  40.773907 -73.873360\n",
       "2  40.761890 -73.986977\n",
       "3  40.765141 -73.980568\n",
       "4  40.731152 -73.982193"
      ]
     },
     "execution_count": 43,
     "metadata": {},
     "output_type": "execute_result"
    }
   ],
   "source": [
    "pickup_data = one_day[['start_lat','start_lng']]\n",
    "pickup_data.head()"
   ]
  },
  {
   "cell_type": "code",
   "execution_count": 44,
   "metadata": {
    "collapsed": false
   },
   "outputs": [
    {
     "name": "stdout",
     "output_type": "stream",
     "text": [
      "40.567997 41.151501 -74.51667 -73.124023\n"
     ]
    }
   ],
   "source": [
    "print min(pickup_data['start_lat']), max(pickup_data['start_lat']), min(pickup_data['start_lng']), max(pickup_data['start_lng'])"
   ]
  },
  {
   "cell_type": "code",
   "execution_count": 55,
   "metadata": {
    "collapsed": false
   },
   "outputs": [],
   "source": [
    "xpickup_data = np.array(pickup_data)"
   ]
  },
  {
   "cell_type": "code",
   "execution_count": 56,
   "metadata": {
    "collapsed": false
   },
   "outputs": [],
   "source": [
    "k_range = range(1, 10)\n",
    "k_means_var = [KMeans(n_clusters=k).fit(xpickup_data) for k in k_range]"
   ]
  },
  {
   "cell_type": "code",
   "execution_count": 57,
   "metadata": {
    "collapsed": false
   },
   "outputs": [],
   "source": [
    "# Find the cluster center for each model\n",
    "centroids = [X.cluster_centers_ for X in k_means_var]"
   ]
  },
  {
   "cell_type": "code",
   "execution_count": 67,
   "metadata": {
    "collapsed": true
   },
   "outputs": [],
   "source": [
    "from scipy.spatial.distance import cdist, pdist"
   ]
  },
  {
   "cell_type": "code",
   "execution_count": 68,
   "metadata": {
    "collapsed": false
   },
   "outputs": [],
   "source": [
    "# Calculate the Euclidian distance for each point to the center\n",
    "k_euclid = [cdist(xpickup_data, cent, 'euclidean') for cent in centroids]"
   ]
  },
  {
   "cell_type": "code",
   "execution_count": 69,
   "metadata": {
    "collapsed": true
   },
   "outputs": [],
   "source": [
    "dist = [np.min(ke, axis=1) for ke in k_euclid]"
   ]
  },
  {
   "cell_type": "code",
   "execution_count": 70,
   "metadata": {
    "collapsed": true
   },
   "outputs": [],
   "source": [
    "# Total within-cluster sum of squares\n",
    "wcss = [sum(d**2) for d in dist]"
   ]
  },
  {
   "cell_type": "code",
   "execution_count": null,
   "metadata": {
    "collapsed": true
   },
   "outputs": [],
   "source": [
    "# Total sum of squares\n",
    "tss = sum(pdist(xpickup_data)**2)/xpickup_data.shape[0]"
   ]
  },
  {
   "cell_type": "code",
   "execution_count": 111,
   "metadata": {
    "collapsed": false
   },
   "outputs": [
    {
     "name": "stderr",
     "output_type": "stream",
     "text": [
      "/Library/Frameworks/Python.framework/Versions/2.7/lib/python2.7/site-packages/ipykernel/__main__.py:1: SettingWithCopyWarning: \n",
      "A value is trying to be set on a copy of a slice from a DataFrame.\n",
      "Try using .loc[row_indexer,col_indexer] = value instead\n",
      "\n",
      "See the the caveats in the documentation: http://pandas.pydata.org/pandas-docs/stable/indexing.html#indexing-view-versus-copy\n",
      "  if __name__ == '__main__':\n"
     ]
    }
   ],
   "source": [
    "pickup_data['labels'] = k_means.labels_"
   ]
  },
  {
   "cell_type": "code",
   "execution_count": null,
   "metadata": {
    "collapsed": true
   },
   "outputs": [],
   "source": []
  },
  {
   "cell_type": "code",
   "execution_count": 115,
   "metadata": {
    "collapsed": false
   },
   "outputs": [
    {
     "data": {
      "image/png": "[encoded data removed]",
      "text/plain": [
       "<matplotlib.figure.Figure at 0x11815f3d0>"
      ]
     },
     "metadata": {},
     "output_type": "display_data"
    }
   ],
   "source": [
    "plt.plot(pickup_data['start_lat'][pickup_data['labels']==0], pickup_data['start_lng'][pickup_data['labels']==0], '.', color='b')\n",
    "plt.plot(pickup_data['start_lat'][pickup_data['labels']==1], pickup_data['start_lng'][pickup_data['labels']==1], '.', color='r')\n",
    "plt.plot(pickup_data['start_lat'][pickup_data['labels']==2], pickup_data['start_lng'][pickup_data['labels']==2], '.', color='g')\n",
    "plt.plot(pickup_data['start_lat'][pickup_data['labels']==3], pickup_data['start_lng'][pickup_data['labels']==3], '.', color='m')\n",
    "plt.plot(pickup_data['start_lat'][pickup_data['labels']==4], pickup_data['start_lng'][pickup_data['labels']==4], '.', color='y')\n",
    "plt.ylim(-74.4, -73.6)\n",
    "plt.xlim(40.6, 40.9)\n",
    "plt.show()"
   ]
  },
  {
   "cell_type": "code",
   "execution_count": 116,
   "metadata": {
    "collapsed": true
   },
   "outputs": [],
   "source": []
  },
  {
   "cell_type": "code",
   "execution_count": null,
   "metadata": {
    "collapsed": true
   },
   "outputs": [],
   "source": []
  },
  {
   "cell_type": "code",
   "execution_count": null,
   "metadata": {
    "collapsed": true
   },
   "outputs": [],
   "source": []
  }
 ],
 "metadata": {
  "kernelspec": {
   "display_name": "Python 2",
   "language": "python",
   "name": "python2"
  },
  "language_info": {
   "codemirror_mode": {
    "name": "ipython",
    "version": 2
   },
   "file_extension": ".py",
   "mimetype": "text/x-python",
   "name": "python",
   "nbconvert_exporter": "python",
   "pygments_lexer": "ipython2",
   "version": "2.7.10"
  }
 },
 "nbformat": 4,
 "nbformat_minor": 0
}
